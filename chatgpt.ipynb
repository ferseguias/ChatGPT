{
 "cells": [
  {
   "cell_type": "code",
   "execution_count": null,
   "metadata": {},
   "outputs": [],
   "source": [
    "import openai\n",
    "from dotenv import load_dotenv\n",
    "import os\n",
    "\n",
    "load_dotenv()\n",
    "\n",
    "api_key = os.getenv(\"openai_api_key\")\n",
    "\n",
    "openai.api_key = api_key\n",
    "\n",
    "while True:\n",
    "\n",
    "    prompt = input(\"\\nIntroduce una pregunta: \")\n",
    "\n",
    "    if prompt == \"exit\":\n",
    "        break\n",
    "\n",
    "    completion = openai.Completion.create(engine=\"text-davinci-003\", prompt=prompt, max_tokens=2048)\n",
    "    \n",
    "    print(completion.choices[0].text)"
   ]
  }
 ],
 "metadata": {
  "kernelspec": {
   "display_name": "base",
   "language": "python",
   "name": "python3"
  },
  "language_info": {
   "codemirror_mode": {
    "name": "ipython",
    "version": 3
   },
   "file_extension": ".py",
   "mimetype": "text/x-python",
   "name": "python",
   "nbconvert_exporter": "python",
   "pygments_lexer": "ipython3",
   "version": "3.9.7"
  },
  "orig_nbformat": 4,
  "vscode": {
   "interpreter": {
    "hash": "81535c40c187213d8173a98c8ffbf422147d8403865cdcdb817e05fa807ec559"
   }
  }
 },
 "nbformat": 4,
 "nbformat_minor": 2
}
